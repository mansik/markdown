{
 "cells": [
  {
   "cell_type": "markdown",
   "id": "59a445ac-50be-4aee-8caa-ddd1bac910aa",
   "metadata": {
    "tags": []
   },
   "source": [
    "# Markdown Syntax\n",
    "\n",
    "\n",
    "#### 참고 사이트\n",
    "\n",
    "> [markdown syntax](https://www.markdownguide.org/basic-syntax/#code)  \n",
    "> [markdownguide](https://www.markdownguide.org/)  \n",
    "> [github](https://docs.github.com/en/get-started/writing-on-github/getting-started-with-writing-and-formatting-on-github/basic-writing-and-formatting-syntax)  "
   ]
  },
  {
   "cell_type": "markdown",
   "id": "38c0977e-7400-4829-94cf-63e5f0552fb6",
   "metadata": {},
   "source": [
    "> ***celltype을 Markdown으로 변경후 작업***"
   ]
  },
  {
   "cell_type": "markdown",
   "id": "83f572e3-f343-4fdf-b93f-85270345e401",
   "metadata": {},
   "source": [
    "# Heading 표시(`#`)\n",
    "\n",
    "- Command Mode에서 작업 : Esc 또는 Ctrl + m\n",
    "- Command Mode에서 키보드 1 -> Enter -> Down 키로 입력할 수도 있음"
   ]
  },
  {
   "cell_type": "markdown",
   "id": "4e113d57-6b19-4c1d-9ca4-2925bd797b94",
   "metadata": {},
   "source": [
    "# `#` Heading level 1"
   ]
  },
  {
   "cell_type": "markdown",
   "id": "7f87930e-2c60-4972-b2f8-c5c7e8dcb998",
   "metadata": {
    "tags": []
   },
   "source": [
    "## `##` Heading level 2\n",
    "### `###` Heading level 3\n",
    "#### `####` Heading level 4\n",
    "##### `#####` Heading level 5\n",
    "##### `######` Heading level 6"
   ]
  },
  {
   "cell_type": "markdown",
   "id": "32db961b-0840-4d48-82b8-981a4cfec846",
   "metadata": {
    "tags": []
   },
   "source": [
    "# 줄바꿈(space space enter)\n",
    "\n",
    "space space enter  \n",
    "후 실행하면 줄바꿈으로 표기된다.  \n",
    "\n",
    "이 줄은 edit mode 에서\n",
    "enter 후 바로 입력하여 2줄로 표시되는데 실행하면 줄바꿈이 안된다.  \n",
    "\n",
    "- 또는 줄의 처음을 `-`, `+`, `*`, `#`, `>` 등 특수한 목적의 문자로 시작하면 줄바꿈 된다.\n",
    "- This is the first line.  \n",
    "And this is the second line. "
   ]
  },
  {
   "cell_type": "markdown",
   "id": "b23964fe-e03b-474b-b63b-c669d1ed445f",
   "metadata": {},
   "source": [
    "# Bold(`**`), Italic(`*`), Bold and Italic(`***`)\n",
    "\n",
    "I just love **bold text**.  \n",
    "This text is *really important*.  \n",
    "Love**is**bold.  \n",
    "A*cat*meow  \n",
    "This is really ***very*** important text.  "
   ]
  },
  {
   "cell_type": "markdown",
   "id": "65ec285a-7bdc-4dae-830a-94a70900d6a2",
   "metadata": {},
   "source": [
    "# Blockquotes(`>`, `>>`: 인용부호)\n",
    "\n",
    "> Dorothy followed her through many of the beautiful rooms in her castle.\n",
    ">\n",
    "> The Witch bade her clean the pots and kettles and sweep the floor and keep the fire fed with wood.\n",
    "\n",
    "> Dorothy followed her through many of the beautiful rooms in her castle.\n",
    ">\n",
    ">> The Witch bade her clean the pots and kettles and sweep the floor and keep the fire fed with wood."
   ]
  },
  {
   "cell_type": "markdown",
   "id": "9ff5413c-25f4-4a77-b159-35dd00cfc255",
   "metadata": {
    "tags": []
   },
   "source": [
    "# Lists(`1.`, `2.`, `3.`)\n",
    "\n",
    "1. First item   \n",
    "2. Second item  \n",
    "--- \n",
    "1. First item\n",
    "2. Second item  \n",
    "    1. Indented item  \n",
    "    2. Indented item\n",
    "3. Third item "
   ]
  },
  {
   "cell_type": "markdown",
   "id": "d33fecd5-1b96-4a68-ad6c-72c030111af7",
   "metadata": {},
   "source": [
    "# Unordered Lists(`-`, `+`, `*`)\n",
    "\n",
    "- 🍎\n",
    "- 🍋\n",
    "\n",
    "---\n",
    "\n",
    "- First item\n",
    "- Second item  \n",
    "\n",
    "---  \n",
    "\n",
    "* First item\n",
    "* Second item  \n",
    "\n",
    "---\n",
    "\n",
    "+ First item  \n",
    "+ Second item  \n",
    "\n",
    "---\n",
    "\n",
    "- First item  \n",
    "- Second item  \n",
    "    - Indented item  \n",
    "    - Indented item  \n",
    "- Fourth item  "
   ]
  },
  {
   "cell_type": "markdown",
   "id": "93b2b9bb-1fc3-4d66-89b7-ffb628d49fe4",
   "metadata": {},
   "source": [
    "# Code(`)\n",
    "\n",
    "- At the command prompt, type `nano`.\n",
    "- ``Use `code` in your Markdown file.``"
   ]
  },
  {
   "cell_type": "markdown",
   "id": "897c6da8-cc10-415c-92e8-e3d2c5e6f976",
   "metadata": {},
   "source": [
    "# Code Block(```언어명)\n",
    "\n",
    "> 사용 언어명을 명시하지 않음\n",
    "\n",
    "```\n",
    "name = input('your name: ')\n",
    "print(name)\n",
    "```\n",
    "\n",
    "> 사용 언어명을 명시\n",
    "\n",
    "```python\n",
    "name = input('your name: ')\n",
    "print(name)\n",
    "```"
   ]
  },
  {
   "cell_type": "markdown",
   "id": "bbd3b6ea-8013-4e5c-9651-578a61eee86d",
   "metadata": {},
   "source": [
    "# Horizontal Rules(`***`, `---`, `___`)\n",
    "\n",
    "***\n",
    "\n",
    "---\n",
    "\n",
    "___"
   ]
  },
  {
   "cell_type": "markdown",
   "id": "fae6163b-4c03-4b56-b2ac-1e671caa7243",
   "metadata": {},
   "source": [
    "# Image(`![Image](url)`)\n",
    "\n",
    "> Drag & Drop 로 가능  \n",
    "\n",
    "![Image](http://url/a.png) image"
   ]
  },
  {
   "cell_type": "markdown",
   "id": "ef295348-1d36-465c-b0e4-f3e4c94fa585",
   "metadata": {
    "tags": []
   },
   "source": [
    "# Url(`[link](url)`)\n",
    "\n",
    "[link](http://google.com)"
   ]
  },
  {
   "cell_type": "markdown",
   "id": "6eae7c36-a50c-4fa3-a40d-0368ac375878",
   "metadata": {},
   "source": [
    "# Table(`|`, `---`, `:`)\n",
    "\n",
    "> `:` 는 정렬, `:---` 좌측 정렬, `---:` 우측 정렬, `:---:` 가운데 정렬\n",
    "\n",
    "|Header|Description|\n",
    "|---|---|\n",
    "|cell|cell|\n",
    "|cell|cell|\n",
    "\n",
    "\n",
    "|Header|Description|\n",
    "|:---:|:---|\n",
    "|cell|cell|\n",
    "|cell|cell|\n"
   ]
  },
  {
   "cell_type": "markdown",
   "id": "d9971e56-6c34-4db3-8dfa-54b8151b5b24",
   "metadata": {},
   "source": [
    "# Task lists\n",
    "\n",
    "- [x] Finish my changes\n",
    "- [ ] Push my commits to GitHub\n",
    "- [ ] Open a pull requestTask lists"
   ]
  },
  {
   "cell_type": "code",
   "execution_count": null,
   "id": "e4af43b7-f9aa-4b0c-a36f-423d4af7f802",
   "metadata": {},
   "outputs": [],
   "source": []
  }
 ],
 "metadata": {
  "kernelspec": {
   "display_name": "Python 3 (ipykernel)",
   "language": "python",
   "name": "python3"
  },
  "language_info": {
   "codemirror_mode": {
    "name": "ipython",
    "version": 3
   },
   "file_extension": ".py",
   "mimetype": "text/x-python",
   "name": "python",
   "nbconvert_exporter": "python",
   "pygments_lexer": "ipython3",
   "version": "3.9.15"
  }
 },
 "nbformat": 4,
 "nbformat_minor": 5
}
